{
  "nbformat": 4,
  "nbformat_minor": 0,
  "metadata": {
    "colab": {
      "provenance": [],
      "authorship_tag": "ABX9TyMDq6ID8Hofk/iyQFIA5BRX",
      "include_colab_link": true
    },
    "kernelspec": {
      "name": "python3",
      "display_name": "Python 3"
    },
    "language_info": {
      "name": "python"
    }
  },
  "cells": [
    {
      "cell_type": "markdown",
      "metadata": {
        "id": "view-in-github",
        "colab_type": "text"
      },
      "source": [
        "<a href=\"https://colab.research.google.com/github/hanniamed/ArtificialIntelligence/blob/main/AI_Assignment1_HanniaMedina_1992370.ipynb\" target=\"_parent\"><img src=\"https://colab.research.google.com/assets/colab-badge.svg\" alt=\"Open In Colab\"/></a>"
      ]
    },
    {
      "cell_type": "markdown",
      "source": [
        "A2: Python Exercises\n",
        "\n",
        "Student : Hannia Medina Aguilar\n",
        "\n",
        "Student ID : 1992370\n",
        "\n",
        "Class : Thursday N4-N6"
      ],
      "metadata": {
        "id": "7Q8Bw-q6B7tk"
      }
    },
    {
      "cell_type": "markdown",
      "source": [
        "### ***E X E R C I S E S***"
      ],
      "metadata": {
        "id": "G6MWzLmTAsWF"
      }
    },
    {
      "cell_type": "markdown",
      "source": [
        "**1. Create a python script where the user is going to be asked for the name. After that, the program will greet the user with the given name. Only exception: the script will not greet the user if the given name is \"Ana\", \"John\" or \"Peter\".**"
      ],
      "metadata": {
        "id": "uyXPKvSmAohh"
      }
    },
    {
      "cell_type": "code",
      "source": [
        "def function_greet():\n",
        "  #Asking name\n",
        "  name = input(\"What is your name ? \")\n",
        "  #Greeting if name is not Ana, John or Peter\n",
        "  if (name != \"Ana\") and (name != \"John\") and (name != \"Peter\"):\n",
        "    print (\"Hello \" + name + \", have a nice day !\")"
      ],
      "metadata": {
        "id": "tdhy3FQBAn6d"
      },
      "execution_count": 107,
      "outputs": []
    },
    {
      "cell_type": "code",
      "source": [
        "#Example 1\n",
        "function_greet()"
      ],
      "metadata": {
        "colab": {
          "base_uri": "https://localhost:8080/"
        },
        "id": "uF-IzclYiJI4",
        "outputId": "dfaef10f-ad4d-42b4-eef0-edad5744f341"
      },
      "execution_count": 108,
      "outputs": [
        {
          "output_type": "stream",
          "name": "stdout",
          "text": [
            "What is your name ? Hannia\n",
            "Hello Hannia, have a nice day !\n"
          ]
        }
      ]
    },
    {
      "cell_type": "code",
      "source": [
        "#Example 2\n",
        "function_greet()"
      ],
      "metadata": {
        "colab": {
          "base_uri": "https://localhost:8080/"
        },
        "id": "SNZRoZo7iH3-",
        "outputId": "534cf1c1-5c98-4d6e-b5c0-e5789382587e"
      },
      "execution_count": 109,
      "outputs": [
        {
          "name": "stdout",
          "output_type": "stream",
          "text": [
            "What is your name ? Ana\n"
          ]
        }
      ]
    },
    {
      "cell_type": "code",
      "source": [
        "#Example 3\n",
        "function_greet()"
      ],
      "metadata": {
        "colab": {
          "base_uri": "https://localhost:8080/"
        },
        "id": "L5BMLwZQoO4A",
        "outputId": "3c26ae39-3011-413d-f891-13022b60cb80"
      },
      "execution_count": 110,
      "outputs": [
        {
          "name": "stdout",
          "output_type": "stream",
          "text": [
            "What is your name ? Peter\n"
          ]
        }
      ]
    },
    {
      "cell_type": "markdown",
      "source": [
        "**2. Create a function in a pyhton script that returns (print) the last element of a given list, reverts the order of the list and finally returns (print) the reverted list.**"
      ],
      "metadata": {
        "id": "G0Btt-drEP2B"
      }
    },
    {
      "cell_type": "code",
      "source": [
        "def function_revert(input):\n",
        "  #Printing last element of the listt\n",
        "  print('Last element :', input[-1])\n",
        "  \n",
        "  #To revert list\n",
        "  reverted_list = []\n",
        "  for i in range(len(input)):\n",
        "    reverted_list.append( input[-(i+1)] )\n",
        "  input = reverted_list\n",
        "  \n",
        "  #Printing reverted list\n",
        "  print('\\nReverted list : ')\n",
        "  for i in range(len(input)):\n",
        "    print(input[i])"
      ],
      "metadata": {
        "id": "THkAay5LEOa2"
      },
      "execution_count": 114,
      "outputs": []
    },
    {
      "cell_type": "code",
      "source": [
        "# Example 1\n",
        "example_list = ['Hannia','Sergio','Jacky','Miguel','Juanjo'] \n",
        "function_revert(example_list)"
      ],
      "metadata": {
        "colab": {
          "base_uri": "https://localhost:8080/"
        },
        "id": "TAIOJCx6iDlS",
        "outputId": "2e8bd450-87ae-4ef6-ce0d-854d61bafa52"
      },
      "execution_count": 115,
      "outputs": [
        {
          "output_type": "stream",
          "name": "stdout",
          "text": [
            "Last element : Juanjo\n",
            "\n",
            "Reverted list : \n",
            "Juanjo\n",
            "Miguel\n",
            "Jacky\n",
            "Sergio\n",
            "Hannia\n"
          ]
        }
      ]
    },
    {
      "cell_type": "code",
      "source": [
        "# Example 2\n",
        "function_revert(input = [10,20,30,40,50,60,70])"
      ],
      "metadata": {
        "colab": {
          "base_uri": "https://localhost:8080/"
        },
        "id": "iKZkjPIniBs6",
        "outputId": "39cfb931-9810-4c2d-e3d2-77c2cd4384ee"
      },
      "execution_count": 116,
      "outputs": [
        {
          "output_type": "stream",
          "name": "stdout",
          "text": [
            "Last element : 70\n",
            "\n",
            "Reverted list : \n",
            "70\n",
            "60\n",
            "50\n",
            "40\n",
            "30\n",
            "20\n",
            "10\n"
          ]
        }
      ]
    },
    {
      "cell_type": "markdown",
      "source": [
        "**3. Create a function in a python script that takes a list of strings as input and then it prints, line by line, the whole list in a rectangular shape. E.g., the list could be [\"Hi\", \"my\", \"name\", \"is\", \"John\", \"Doe\"] and the final result is:**\n",
        "\n",
        "********** \n",
        "\n",
        "* Hi        * \n",
        "\n",
        "* my       *\n",
        "\n",
        "* name   * \n",
        "\n",
        "* is         * \n",
        "\n",
        "* John    * \n",
        "\n",
        "* Doe     *\n",
        "\n",
        "**********"
      ],
      "metadata": {
        "id": "wLEGiTevA2XN"
      }
    },
    {
      "cell_type": "code",
      "source": [
        "def function_shape(input):\n",
        "  \n",
        "  #Finding the longest string\n",
        "  max = 0\n",
        "  for i in range(len(input)):\n",
        "    if len(input[i]) > max:\n",
        "      max = len(input[i])\n",
        "\n",
        "  #Defining initial and final line\n",
        "  line = ''\n",
        "  for i in range(max+4):\n",
        "    line += '*'\n",
        "\n",
        "  #Printing first line \n",
        "  print(line)\n",
        "\n",
        "  #Printing all strings of the input list\n",
        "  for i in range(len(input)):\n",
        "    spaces = ' ' * (max-len(input[i]))\n",
        "    print('* ' + input[i] + spaces + ' *')\n",
        "  \n",
        "  #Printing last line \n",
        "  print(line)"
      ],
      "metadata": {
        "id": "DwC43dIDF8Ev"
      },
      "execution_count": 99,
      "outputs": []
    },
    {
      "cell_type": "code",
      "source": [
        "#Example 1\n",
        "function_shape(input = [\"Hi\", \"my\", \"name\", \"is\", \"John\", \"Doe\"])"
      ],
      "metadata": {
        "colab": {
          "base_uri": "https://localhost:8080/"
        },
        "id": "EbUerVcmmlN7",
        "outputId": "24a19d4f-e656-4504-9104-e5c5eb91b38e"
      },
      "execution_count": 100,
      "outputs": [
        {
          "output_type": "stream",
          "name": "stdout",
          "text": [
            "********\n",
            "* Hi   *\n",
            "* my   *\n",
            "* name *\n",
            "* is   *\n",
            "* John *\n",
            "* Doe  *\n",
            "********\n"
          ]
        }
      ]
    },
    {
      "cell_type": "code",
      "source": [
        "#Example 2\n",
        "function_shape([\"Today\", \"is\", \"19th\", \"september\"])"
      ],
      "metadata": {
        "colab": {
          "base_uri": "https://localhost:8080/"
        },
        "id": "LiDCwkQWmnqL",
        "outputId": "d7edcea1-3ae9-4c95-a0b9-1d0705667cb9"
      },
      "execution_count": 101,
      "outputs": [
        {
          "output_type": "stream",
          "name": "stdout",
          "text": [
            "*************\n",
            "* Today     *\n",
            "* is        *\n",
            "* 19th      *\n",
            "* september *\n",
            "*************\n"
          ]
        }
      ]
    },
    {
      "cell_type": "code",
      "source": [
        "#Example 3\n",
        "my_list = [\"97\", \"days\", \"to\", \"go\",\"until\", \"Christmas !\"]\n",
        "function_shape(my_list)"
      ],
      "metadata": {
        "colab": {
          "base_uri": "https://localhost:8080/"
        },
        "id": "xIbv6ehlmz0W",
        "outputId": "ccc2c160-e01e-4579-a6e9-09d6b22f5262"
      },
      "execution_count": 102,
      "outputs": [
        {
          "output_type": "stream",
          "name": "stdout",
          "text": [
            "***************\n",
            "* 97          *\n",
            "* days        *\n",
            "* to          *\n",
            "* go          *\n",
            "* until       *\n",
            "* Christmas ! *\n",
            "***************\n"
          ]
        }
      ]
    }
  ]
}